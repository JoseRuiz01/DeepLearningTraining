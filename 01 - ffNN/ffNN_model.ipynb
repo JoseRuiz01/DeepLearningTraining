{
 "cells": [
  {
   "cell_type": "markdown",
   "metadata": {
    "editable": true,
    "id": "QYuALZOG-AMq",
    "slideshow": {
     "slide_type": ""
    },
    "tags": []
   },
   "source": [
    "## Assignment: Image recognition\n",
    "- Alumno 1: José Antonio Ruiz Heredia\n",
    "- Alumno 2: Álvaro Honrubia\n",
    "- Alumno 3: Hector Carlos Flores Reynoso \n",
    "\n",
    "The goals of the assignment are:\n",
    "* Develop proficiency in using Tensorflow/Keras for training Neural Nets (NNs).\n",
    "* Put into practice the acquired knowledge to optimize the parameters and architecture of a feedforward Neural Net (ffNN), in the context of an image recognition problem.\n",
    "* Put into practice NNs specially conceived for analysing images. Design and optimize the parameters of a Convolutional Neural Net (CNN) to deal with previous task.\n",
    "* Train popular architectures from scratch (e.g., GoogLeNet, VGG, ResNet, ...), and compare the results with the ones provided by their pre-trained versions using transfer learning.\n",
    "\n",
    "Follow the link below to download the classification data set  “xview_recognition”: [https://drive.upm.es/s/4oNHlRFEd71HXp4](https://drive.upm.es/s/4oNHlRFEd71HXp4)"
   ]
  },
  {
   "cell_type": "code",
   "execution_count": 1,
   "metadata": {
    "ExecuteTime": {
     "end_time": "2024-10-26T00:00:21.031186Z",
     "start_time": "2024-10-26T00:00:17.131476Z"
    },
    "editable": true,
    "slideshow": {
     "slide_type": ""
    },
    "tags": []
   },
   "outputs": [
    {
     "name": "stderr",
     "output_type": "stream",
     "text": [
      "2025-04-07 00:01:23.194608: I tensorflow/core/util/port.cc:113] oneDNN custom operations are on. You may see slightly different numerical results due to floating-point round-off errors from different computation orders. To turn them off, set the environment variable `TF_ENABLE_ONEDNN_OPTS=0`.\n",
      "2025-04-07 00:01:23.220995: E external/local_xla/xla/stream_executor/cuda/cuda_dnn.cc:9261] Unable to register cuDNN factory: Attempting to register factory for plugin cuDNN when one has already been registered\n",
      "2025-04-07 00:01:23.221023: E external/local_xla/xla/stream_executor/cuda/cuda_fft.cc:607] Unable to register cuFFT factory: Attempting to register factory for plugin cuFFT when one has already been registered\n",
      "2025-04-07 00:01:23.221730: E external/local_xla/xla/stream_executor/cuda/cuda_blas.cc:1515] Unable to register cuBLAS factory: Attempting to register factory for plugin cuBLAS when one has already been registered\n",
      "2025-04-07 00:01:23.226575: I tensorflow/core/platform/cpu_feature_guard.cc:182] This TensorFlow binary is optimized to use available CPU instructions in performance-critical operations.\n",
      "To enable the following instructions: AVX2 AVX_VNNI FMA, in other operations, rebuild TensorFlow with the appropriate compiler flags.\n",
      "2025-04-07 00:01:23.874790: W tensorflow/compiler/tf2tensorrt/utils/py_utils.cc:38] TF-TRT Warning: Could not find TensorRT\n"
     ]
    },
    {
     "name": "stdout",
     "output_type": "stream",
     "text": [
      "[PhysicalDevice(name='/physical_device:GPU:0', device_type='GPU')]\n"
     ]
    },
    {
     "name": "stderr",
     "output_type": "stream",
     "text": [
      "2025-04-07 00:01:24.624459: I external/local_xla/xla/stream_executor/cuda/cuda_executor.cc:887] could not open file to read NUMA node: /sys/bus/pci/devices/0000:01:00.0/numa_node\n",
      "Your kernel may have been built without NUMA support.\n",
      "2025-04-07 00:01:24.651975: I external/local_xla/xla/stream_executor/cuda/cuda_executor.cc:887] could not open file to read NUMA node: /sys/bus/pci/devices/0000:01:00.0/numa_node\n",
      "Your kernel may have been built without NUMA support.\n",
      "2025-04-07 00:01:24.652012: I external/local_xla/xla/stream_executor/cuda/cuda_executor.cc:887] could not open file to read NUMA node: /sys/bus/pci/devices/0000:01:00.0/numa_node\n",
      "Your kernel may have been built without NUMA support.\n"
     ]
    }
   ],
   "source": [
    "import tensorflow as tf\n",
    "print(tf.config.list_physical_devices('GPU'))"
   ]
  },
  {
   "cell_type": "code",
   "execution_count": 2,
   "metadata": {
    "ExecuteTime": {
     "end_time": "2024-10-26T00:00:21.066937Z",
     "start_time": "2024-10-26T00:00:21.059126Z"
    },
    "editable": true,
    "id": "OYtqD3Oh-AMw",
    "slideshow": {
     "slide_type": ""
    },
    "tags": []
   },
   "outputs": [],
   "source": [
    "import uuid\n",
    "import numpy as np\n",
    "\n",
    "class GenericObject:\n",
    "    \"\"\"\n",
    "    Generic object data.\n",
    "    \"\"\"\n",
    "    def __init__(self):\n",
    "        self.id = uuid.uuid4()\n",
    "        self.bb = (-1, -1, -1, -1)\n",
    "        self.category= -1\n",
    "        self.score = -1\n",
    "\n",
    "class GenericImage:\n",
    "    \"\"\"\n",
    "    Generic image data.\n",
    "    \"\"\"\n",
    "    def __init__(self, filename):\n",
    "        self.filename = filename\n",
    "        self.tile = np.array([-1, -1, -1, -1])  # (pt_x, pt_y, pt_x+width, pt_y+height)\n",
    "        self.objects = list([])\n",
    "\n",
    "    def add_object(self, obj: GenericObject):\n",
    "        self.objects.append(obj)"
   ]
  },
  {
   "cell_type": "code",
   "execution_count": 3,
   "metadata": {
    "ExecuteTime": {
     "end_time": "2024-10-26T00:00:21.153693Z",
     "start_time": "2024-10-26T00:00:21.149079Z"
    },
    "id": "I_GygShu-AMz"
   },
   "outputs": [],
   "source": [
    "categories = {0: 'Cargo plane', 1: 'Helicopter', 2: 'Small car', 3: 'Bus', 4: 'Truck', 5: 'Motorboat', 6: 'Fishing vessel', 7: 'Dump truck', 8: 'Excavator', 9: 'Building', 10: 'Storage tank', 11: 'Shipping container'}"
   ]
  },
  {
   "cell_type": "code",
   "execution_count": 4,
   "metadata": {
    "ExecuteTime": {
     "end_time": "2024-10-26T00:00:21.292654Z",
     "start_time": "2024-10-26T00:00:21.205321Z"
    },
    "editable": true,
    "id": "fRBA7ReQ-AM0",
    "slideshow": {
     "slide_type": ""
    },
    "tags": []
   },
   "outputs": [],
   "source": [
    "import warnings\n",
    "import rasterio\n",
    "import numpy as np\n",
    "\n",
    "def load_geoimage(filename):\n",
    "    warnings.filterwarnings('ignore', category=rasterio.errors.NotGeoreferencedWarning)\n",
    "    src_raster = rasterio.open('./xview_recognition/'+filename, 'r')\n",
    "    # RasterIO to OpenCV (see inconsistencies between libjpeg and libjpeg-turbo)\n",
    "    input_type = src_raster.profile['dtype']\n",
    "    input_channels = src_raster.count\n",
    "    img = np.zeros((src_raster.height, src_raster.width, src_raster.count), dtype=input_type)\n",
    "    for band in range(input_channels):\n",
    "        img[:, :, band] = src_raster.read(band+1)\n",
    "    return img"
   ]
  },
  {
   "cell_type": "markdown",
   "metadata": {
    "id": "diNBB3qy-AM2"
   },
   "source": [
    "#### Training\n",
    "Design and train a ffNN to deal with the “xview_recognition” classification task."
   ]
  },
  {
   "cell_type": "code",
   "execution_count": null,
   "metadata": {
    "ExecuteTime": {
     "end_time": "2024-10-26T00:00:21.416449Z",
     "start_time": "2024-10-26T00:00:21.311510Z"
    },
    "editable": true,
    "id": "Orto292C-AM3",
    "slideshow": {
     "slide_type": ""
    },
    "tags": []
   },
   "outputs": [],
   "source": [
    "import json\n",
    "\n",
    "# Load database\n",
    "json_file = '../input/xview-recognition/xview_recognition/xview_ann_train.json'\n",
    "with open(json_file) as ifs:\n",
    "    json_data = json.load(ifs)\n",
    "ifs.close()"
   ]
  },
  {
   "cell_type": "code",
   "execution_count": 6,
   "metadata": {
    "ExecuteTime": {
     "end_time": "2024-10-26T00:00:22.874518Z",
     "start_time": "2024-10-26T00:00:22.204948Z"
    },
    "id": "4GjFLHs4-AM4",
    "outputId": "5581df22-d4e9-42ac-9f94-061fd8c7acd9"
   },
   "outputs": [
    {
     "name": "stdout",
     "output_type": "stream",
     "text": [
      "{'Cargo plane': 635, 'Helicopter': 70, 'Small car': 4290, 'Bus': 2155, 'Truck': 2746, 'Motorboat': 1069, 'Fishing vessel': 706, 'Dump truck': 1236, 'Excavator': 789, 'Building': 4689, 'Storage tank': 1469, 'Shipping container': 1523}\n"
     ]
    }
   ],
   "source": [
    "import numpy as np\n",
    "\n",
    "counts = dict.fromkeys(categories.values(), 0)\n",
    "anns = []\n",
    "for json_img, json_ann in zip(json_data['images'].values(), json_data['annotations'].values()):\n",
    "    image = GenericImage(json_img['filename'])\n",
    "    image.tile = np.array([0, 0, json_img['width'], json_img['height']])\n",
    "    obj = GenericObject()\n",
    "    obj.bb = (int(json_ann['bbox'][0]), int(json_ann['bbox'][1]), int(json_ann['bbox'][2]), int(json_ann['bbox'][3]))\n",
    "    obj.category = json_ann['category_id']\n",
    "    # Resampling strategy to reduce training time\n",
    "    counts[obj.category] += 1\n",
    "    image.add_object(obj)\n",
    "    anns.append(image)\n",
    "print(counts)"
   ]
  },
  {
   "cell_type": "code",
   "execution_count": 7,
   "metadata": {
    "ExecuteTime": {
     "end_time": "2024-10-26T00:00:23.656800Z",
     "start_time": "2024-10-26T00:00:23.123245Z"
    },
    "id": "NriAECvS-AM6"
   },
   "outputs": [
    {
     "name": "stdout",
     "output_type": "stream",
     "text": [
      "Number of training images: 19239\n",
      "Number of validation images: 2138\n"
     ]
    }
   ],
   "source": [
    "from sklearn.model_selection import train_test_split\n",
    "\n",
    "anns_train, anns_valid = train_test_split(anns, test_size=0.1, random_state=1, shuffle=True)\n",
    "print('Number of training images: ' + str(len(anns_train)))\n",
    "print('Number of validation images: ' + str(len(anns_valid)))"
   ]
  },
  {
   "cell_type": "code",
   "execution_count": null,
   "metadata": {
    "ExecuteTime": {
     "end_time": "2024-10-26T00:00:25.056806Z",
     "start_time": "2024-10-26T00:00:24.261581Z"
    },
    "id": "BNkjbY2e-AM7",
    "outputId": "47bde031-306f-464e-8e22-cc70a7fb7c67"
   },
   "outputs": [
    {
     "name": "stdout",
     "output_type": "stream",
     "text": [
      "Load model\n",
      "Model: \"sequential\"\n",
      "_________________________________________________________________\n",
      " Layer (type)                Output Shape              Param #   \n",
      "=================================================================\n",
      " flatten (Flatten)           (None, 150528)            0         \n",
      "                                                                 \n",
      " dense (Dense)               (None, 1024)              154141696 \n",
      "                                                                 \n",
      " re_lu (ReLU)                (None, 1024)              0         \n",
      "                                                                 \n",
      " dense_1 (Dense)             (None, 512)               524800    \n",
      "                                                                 \n",
      " re_lu_1 (ReLU)              (None, 512)               0         \n",
      "                                                                 \n",
      " dense_2 (Dense)             (None, 256)               131328    \n",
      "                                                                 \n",
      " re_lu_2 (ReLU)              (None, 256)               0         \n",
      "                                                                 \n",
      " dense_3 (Dense)             (None, 128)               32896     \n",
      "                                                                 \n",
      " re_lu_3 (ReLU)              (None, 128)               0         \n",
      "                                                                 \n",
      " dense_4 (Dense)             (None, 64)                8256      \n",
      "                                                                 \n",
      " re_lu_4 (ReLU)              (None, 64)                0         \n",
      "                                                                 \n",
      " dense_5 (Dense)             (None, 12)                780       \n",
      "                                                                 \n",
      "=================================================================\n",
      "Total params: 154839756 (590.67 MB)\n",
      "Trainable params: 154839756 (590.67 MB)\n",
      "Non-trainable params: 0 (0.00 Byte)\n",
      "_________________________________________________________________\n"
     ]
    },
    {
     "name": "stderr",
     "output_type": "stream",
     "text": [
      "2025-04-07 00:01:25.401923: I external/local_xla/xla/stream_executor/cuda/cuda_executor.cc:887] could not open file to read NUMA node: /sys/bus/pci/devices/0000:01:00.0/numa_node\n",
      "Your kernel may have been built without NUMA support.\n",
      "2025-04-07 00:01:25.402003: I external/local_xla/xla/stream_executor/cuda/cuda_executor.cc:887] could not open file to read NUMA node: /sys/bus/pci/devices/0000:01:00.0/numa_node\n",
      "Your kernel may have been built without NUMA support.\n",
      "2025-04-07 00:01:25.402018: I external/local_xla/xla/stream_executor/cuda/cuda_executor.cc:887] could not open file to read NUMA node: /sys/bus/pci/devices/0000:01:00.0/numa_node\n",
      "Your kernel may have been built without NUMA support.\n",
      "2025-04-07 00:01:25.496561: I external/local_xla/xla/stream_executor/cuda/cuda_executor.cc:887] could not open file to read NUMA node: /sys/bus/pci/devices/0000:01:00.0/numa_node\n",
      "Your kernel may have been built without NUMA support.\n",
      "2025-04-07 00:01:25.496606: I external/local_xla/xla/stream_executor/cuda/cuda_executor.cc:887] could not open file to read NUMA node: /sys/bus/pci/devices/0000:01:00.0/numa_node\n",
      "Your kernel may have been built without NUMA support.\n",
      "2025-04-07 00:01:25.496612: I tensorflow/core/common_runtime/gpu/gpu_device.cc:2022] Could not identify NUMA node of platform GPU id 0, defaulting to 0.  Your kernel may not have been built with NUMA support.\n",
      "2025-04-07 00:01:25.496634: I external/local_xla/xla/stream_executor/cuda/cuda_executor.cc:887] could not open file to read NUMA node: /sys/bus/pci/devices/0000:01:00.0/numa_node\n",
      "Your kernel may have been built without NUMA support.\n",
      "2025-04-07 00:01:25.496654: I tensorflow/core/common_runtime/gpu/gpu_device.cc:1929] Created device /job:localhost/replica:0/task:0/device:GPU:0 with 5563 MB memory:  -> device: 0, name: NVIDIA GeForce RTX 4060 Laptop GPU, pci bus id: 0000:01:00.0, compute capability: 8.9\n"
     ]
    }
   ],
   "source": [
    "from tensorflow.keras.models import Sequential\n",
    "from tensorflow.keras.layers import Dense, Dropout, Flatten, ReLU\n",
    "from tensorflow.keras.initializers import HeNormal\n",
    "from tensorflow.keras.regularizers import L1, L2  # Lasso regularizer (L1) & Ridge regularizer (L2)\n",
    "\n",
    "print('Load model')\n",
    "\n",
    "model = Sequential()\n",
    "\n",
    "# Input layer\n",
    "model.add(Flatten(input_shape=(224, 224, 3)))\n",
    "\n",
    "model.add(Dense(units=1024))\n",
    "model.add(ReLU(negative_slope=0.005)) \n",
    "\n",
    "model.add(Dense(units=512))\n",
    "model.add(ReLU(negative_slope=0.005)) \n",
    "\n",
    "model.add(Dense(units=256))\n",
    "model.add(ReLU(negative_slope=0.005)) \n",
    "\n",
    "model.add(Dense(units=128))\n",
    "model.add(ReLU(negative_slope=0.005)) \n",
    "\n",
    "model.add(Dense(units=64))\n",
    "model.add(ReLU(negative_slope=0.005))\n",
    "    \n",
    "# Output layer\n",
    "model.add(Dense(len(categories), activation='softmax'))\n",
    "\n",
    "model.summary()\n"
   ]
  },
  {
   "cell_type": "code",
   "execution_count": 9,
   "metadata": {
    "ExecuteTime": {
     "end_time": "2024-10-26T00:00:25.467525Z",
     "start_time": "2024-10-26T00:00:25.434068Z"
    },
    "id": "-aSlKtG6-AM7"
   },
   "outputs": [],
   "source": [
    "from tensorflow.keras.optimizers import Adam\n",
    "\n",
    "## Learning rate is changed (0.0001)\n",
    "## beta 1: controls the exponential decay rate for the 1st moment (0.8)\n",
    "## beta 2: controls the 2nd moment decay, fine-tuned for specific tasks. (0.999)\n",
    "## epsilon: avoid numerical instability (1e-9)\n",
    "\n",
    "opt = Adam(learning_rate=0.0005, beta_1=0.8999999999999999, beta_2=0.9770000000000001)\n",
    "model.compile(optimizer=opt, loss='categorical_crossentropy', metrics=['accuracy'])"
   ]
  },
  {
   "cell_type": "code",
   "execution_count": 10,
   "metadata": {
    "ExecuteTime": {
     "end_time": "2024-10-26T00:00:26.254555Z",
     "start_time": "2024-10-26T00:00:26.243908Z"
    },
    "id": "GGAJEfpB-AM8"
   },
   "outputs": [],
   "source": [
    "from tensorflow.keras.callbacks import TerminateOnNaN, EarlyStopping, ReduceLROnPlateau, ModelCheckpoint\n",
    "\n",
    "# Callbacks\n",
    "model_checkpoint = ModelCheckpoint('model.keras', monitor='val_accuracy', verbose=1, save_best_only=True)\n",
    "## Change the factor to 0.5 and patience to 5 to make the learning rate decrease.\n",
    "reduce_lr = ReduceLROnPlateau('val_accuracy', factor=0.5, patience=5, verbose=1)\n",
    "## Reduce the patience to stop early if the model doesn’t improve\n",
    "early_stop = EarlyStopping('val_accuracy', patience=10, verbose=1)\n",
    "terminate = TerminateOnNaN()\n",
    "callbacks = [model_checkpoint, reduce_lr, early_stop, terminate]"
   ]
  },
  {
   "cell_type": "code",
   "execution_count": 11,
   "metadata": {},
   "outputs": [],
   "source": [
    "def generator_images(objs, batch_size, do_shuffle=False):\n",
    "    while True:\n",
    "        if do_shuffle:\n",
    "            np.random.shuffle(objs)\n",
    "        groups = [objs[i:i+batch_size] for i in range(0, len(objs), batch_size)]\n",
    "        for group in groups:\n",
    "            images, labels = [], []\n",
    "            for (filename, obj) in group:\n",
    "                # Load image\n",
    "                images.append(load_geoimage(filename))\n",
    "                probabilities = np.zeros(len(categories))\n",
    "                probabilities[list(categories.values()).index(obj.category)] = 1\n",
    "                labels.append(probabilities)\n",
    "            images = np.array(images).astype(np.float32)\n",
    "            labels = np.array(labels).astype(np.float32)\n",
    "            yield images, labels"
   ]
  },
  {
   "cell_type": "code",
   "execution_count": 12,
   "metadata": {
    "ExecuteTime": {
     "end_time": "2024-10-26T00:00:27.058834Z",
     "start_time": "2024-10-26T00:00:27.022627Z"
    },
    "id": "Yht-QqUH-AM8"
   },
   "outputs": [],
   "source": [
    "# Generate the list of objects from annotations\n",
    "objs_train = [(ann.filename, obj) for ann in anns_train for obj in ann.objects]\n",
    "objs_valid = [(ann.filename, obj) for ann in anns_valid for obj in ann.objects]\n",
    "# Generators\n",
    "batch_size = 128 ## Increase bach size (128) \n",
    "train_generator = generator_images(objs_train, batch_size, do_shuffle=True)\n",
    "valid_generator = generator_images(objs_valid, batch_size, do_shuffle=False)"
   ]
  },
  {
   "cell_type": "code",
   "execution_count": 13,
   "metadata": {
    "ExecuteTime": {
     "start_time": "2024-10-26T00:00:27.913670Z"
    },
    "editable": true,
    "id": "TrfpdECs-AM9",
    "jupyter": {
     "is_executing": true
    },
    "outputId": "21d89b78-d94c-442e-9bc2-517654c0b614",
    "slideshow": {
     "slide_type": ""
    },
    "tags": []
   },
   "outputs": [
    {
     "name": "stdout",
     "output_type": "stream",
     "text": [
      "Training model\n",
      "Epoch 1/100\n"
     ]
    },
    {
     "name": "stderr",
     "output_type": "stream",
     "text": [
      "2025-04-07 00:01:34.249650: I external/local_xla/xla/service/service.cc:168] XLA service 0x7ff82d0b6f70 initialized for platform CUDA (this does not guarantee that XLA will be used). Devices:\n",
      "2025-04-07 00:01:34.249681: I external/local_xla/xla/service/service.cc:176]   StreamExecutor device (0): NVIDIA GeForce RTX 4060 Laptop GPU, Compute Capability 8.9\n",
      "2025-04-07 00:01:34.274780: I tensorflow/compiler/mlir/tensorflow/utils/dump_mlir_util.cc:269] disabling MLIR crash reproducer, set env var `MLIR_CRASH_REPRODUCER_DIRECTORY` to enable.\n",
      "2025-04-07 00:01:34.323000: I external/local_xla/xla/stream_executor/cuda/cuda_dnn.cc:454] Loaded cuDNN version 8904\n",
      "WARNING: All log messages before absl::InitializeLog() is called are written to STDERR\n",
      "I0000 00:00:1743984094.492652    2382 device_compiler.h:186] Compiled cluster using XLA!  This line is logged at most once for the lifetime of the process.\n"
     ]
    },
    {
     "name": "stdout",
     "output_type": "stream",
     "text": [
      "151/151 [==============================] - ETA: 0s - loss: 741.0006 - accuracy: 0.2047\n",
      "Epoch 1: val_accuracy improved from -inf to 0.16791, saving model to model.keras\n",
      "151/151 [==============================] - 993s 7s/step - loss: 741.0006 - accuracy: 0.2047 - val_loss: 233.1280 - val_accuracy: 0.1679 - lr: 5.0000e-04\n",
      "Epoch 2/100\n",
      "151/151 [==============================] - ETA: 0s - loss: 88.1694 - accuracy: 0.2626\n",
      "Epoch 2: val_accuracy improved from 0.16791 to 0.33910, saving model to model.keras\n",
      "151/151 [==============================] - 466s 3s/step - loss: 88.1694 - accuracy: 0.2626 - val_loss: 35.9692 - val_accuracy: 0.3391 - lr: 5.0000e-04\n",
      "Epoch 3/100\n",
      "151/151 [==============================] - ETA: 0s - loss: 26.2824 - accuracy: 0.2448\n",
      "Epoch 3: val_accuracy did not improve from 0.33910\n",
      "151/151 [==============================] - 773s 5s/step - loss: 26.2824 - accuracy: 0.2448 - val_loss: 43.8528 - val_accuracy: 0.0655 - lr: 5.0000e-04\n",
      "Epoch 4/100\n",
      "151/151 [==============================] - ETA: 0s - loss: 19.4973 - accuracy: 0.2356\n",
      "Epoch 4: val_accuracy did not improve from 0.33910\n",
      "151/151 [==============================] - 457s 3s/step - loss: 19.4973 - accuracy: 0.2356 - val_loss: 5.3694 - val_accuracy: 0.1838 - lr: 5.0000e-04\n",
      "Epoch 5/100\n",
      "151/151 [==============================] - ETA: 0s - loss: 6.1792 - accuracy: 0.2755\n",
      "Epoch 5: val_accuracy did not improve from 0.33910\n",
      "151/151 [==============================] - 400s 3s/step - loss: 6.1792 - accuracy: 0.2755 - val_loss: 4.8050 - val_accuracy: 0.2577 - lr: 5.0000e-04\n",
      "Epoch 6/100\n",
      "151/151 [==============================] - ETA: 0s - loss: 4.0215 - accuracy: 0.2905\n",
      "Epoch 6: val_accuracy improved from 0.33910 to 0.33957, saving model to model.keras\n",
      "151/151 [==============================] - 406s 3s/step - loss: 4.0215 - accuracy: 0.2905 - val_loss: 2.8648 - val_accuracy: 0.3396 - lr: 5.0000e-04\n",
      "Epoch 7/100\n",
      "151/151 [==============================] - ETA: 0s - loss: 3.3111 - accuracy: 0.3083\n",
      "Epoch 7: val_accuracy did not improve from 0.33957\n",
      "151/151 [==============================] - 382s 3s/step - loss: 3.3111 - accuracy: 0.3083 - val_loss: 2.8412 - val_accuracy: 0.3148 - lr: 5.0000e-04\n",
      "Epoch 8/100\n",
      "151/151 [==============================] - ETA: 0s - loss: 2.1913 - accuracy: 0.3607\n",
      "Epoch 8: val_accuracy improved from 0.33957 to 0.37699, saving model to model.keras\n",
      "151/151 [==============================] - 394s 3s/step - loss: 2.1913 - accuracy: 0.3607 - val_loss: 2.4676 - val_accuracy: 0.3770 - lr: 5.0000e-04\n",
      "Epoch 9/100\n",
      "151/151 [==============================] - ETA: 0s - loss: 1.9975 - accuracy: 0.3802\n",
      "Epoch 9: val_accuracy improved from 0.37699 to 0.39102, saving model to model.keras\n",
      "151/151 [==============================] - 393s 3s/step - loss: 1.9975 - accuracy: 0.3802 - val_loss: 1.9874 - val_accuracy: 0.3910 - lr: 5.0000e-04\n",
      "Epoch 10/100\n",
      "151/151 [==============================] - ETA: 0s - loss: 1.8933 - accuracy: 0.3918\n",
      "Epoch 10: val_accuracy did not improve from 0.39102\n",
      "151/151 [==============================] - 378s 3s/step - loss: 1.8933 - accuracy: 0.3918 - val_loss: 1.9710 - val_accuracy: 0.3620 - lr: 5.0000e-04\n",
      "Epoch 11/100\n",
      "151/151 [==============================] - ETA: 0s - loss: 1.7976 - accuracy: 0.4228\n",
      "Epoch 11: val_accuracy did not improve from 0.39102\n",
      "151/151 [==============================] - 383s 3s/step - loss: 1.7976 - accuracy: 0.4228 - val_loss: 2.1669 - val_accuracy: 0.3695 - lr: 5.0000e-04\n",
      "Epoch 12/100\n",
      "151/151 [==============================] - ETA: 0s - loss: 1.7746 - accuracy: 0.4286\n",
      "Epoch 12: val_accuracy improved from 0.39102 to 0.44107, saving model to model.keras\n",
      "151/151 [==============================] - 390s 3s/step - loss: 1.7746 - accuracy: 0.4286 - val_loss: 2.1695 - val_accuracy: 0.4411 - lr: 5.0000e-04\n",
      "Epoch 13/100\n",
      "151/151 [==============================] - ETA: 0s - loss: 1.7460 - accuracy: 0.4430\n",
      "Epoch 13: val_accuracy did not improve from 0.44107\n",
      "151/151 [==============================] - 384s 3s/step - loss: 1.7460 - accuracy: 0.4430 - val_loss: 2.3508 - val_accuracy: 0.3845 - lr: 5.0000e-04\n",
      "Epoch 14/100\n",
      "151/151 [==============================] - ETA: 0s - loss: 1.6899 - accuracy: 0.4433\n",
      "Epoch 14: val_accuracy improved from 0.44107 to 0.47147, saving model to model.keras\n",
      "151/151 [==============================] - 393s 3s/step - loss: 1.6899 - accuracy: 0.4433 - val_loss: 1.7403 - val_accuracy: 0.4715 - lr: 5.0000e-04\n",
      "Epoch 15/100\n",
      "151/151 [==============================] - ETA: 0s - loss: 1.6135 - accuracy: 0.4624\n",
      "Epoch 15: val_accuracy did not improve from 0.47147\n",
      "151/151 [==============================] - 376s 3s/step - loss: 1.6135 - accuracy: 0.4624 - val_loss: 1.6772 - val_accuracy: 0.4696 - lr: 5.0000e-04\n",
      "Epoch 16/100\n",
      "151/151 [==============================] - ETA: 0s - loss: 1.6281 - accuracy: 0.4618\n",
      "Epoch 16: val_accuracy did not improve from 0.47147\n",
      "151/151 [==============================] - 382s 3s/step - loss: 1.6281 - accuracy: 0.4618 - val_loss: 1.6816 - val_accuracy: 0.4659 - lr: 5.0000e-04\n",
      "Epoch 17/100\n",
      "151/151 [==============================] - ETA: 0s - loss: 1.5941 - accuracy: 0.4744\n",
      "Epoch 17: val_accuracy did not improve from 0.47147\n",
      "151/151 [==============================] - 383s 3s/step - loss: 1.5941 - accuracy: 0.4744 - val_loss: 1.7725 - val_accuracy: 0.4715 - lr: 5.0000e-04\n",
      "Epoch 18/100\n",
      "151/151 [==============================] - ETA: 0s - loss: 1.5394 - accuracy: 0.4843\n",
      "Epoch 18: val_accuracy did not improve from 0.47147\n",
      "151/151 [==============================] - 383s 3s/step - loss: 1.5394 - accuracy: 0.4843 - val_loss: 1.7058 - val_accuracy: 0.4645 - lr: 5.0000e-04\n",
      "Epoch 19/100\n",
      "151/151 [==============================] - ETA: 0s - loss: 1.9853 - accuracy: 0.4780\n",
      "Epoch 19: val_accuracy did not improve from 0.47147\n",
      "\n",
      "Epoch 19: ReduceLROnPlateau reducing learning rate to 0.0002500000118743628.\n",
      "151/151 [==============================] - 388s 3s/step - loss: 1.9853 - accuracy: 0.4780 - val_loss: 1.8636 - val_accuracy: 0.4434 - lr: 5.0000e-04\n",
      "Epoch 20/100\n",
      "151/151 [==============================] - ETA: 0s - loss: 1.4310 - accuracy: 0.5115\n",
      "Epoch 20: val_accuracy improved from 0.47147 to 0.47287, saving model to model.keras\n",
      "151/151 [==============================] - 395s 3s/step - loss: 1.4310 - accuracy: 0.5115 - val_loss: 1.7733 - val_accuracy: 0.4729 - lr: 2.5000e-04\n",
      "Epoch 21/100\n",
      "151/151 [==============================] - ETA: 0s - loss: 1.4094 - accuracy: 0.5152\n",
      "Epoch 21: val_accuracy improved from 0.47287 to 0.47708, saving model to model.keras\n",
      "151/151 [==============================] - 392s 3s/step - loss: 1.4094 - accuracy: 0.5152 - val_loss: 1.8668 - val_accuracy: 0.4771 - lr: 2.5000e-04\n",
      "Epoch 22/100\n",
      "151/151 [==============================] - ETA: 0s - loss: 1.3900 - accuracy: 0.5192\n",
      "Epoch 22: val_accuracy improved from 0.47708 to 0.48036, saving model to model.keras\n",
      "151/151 [==============================] - 395s 3s/step - loss: 1.3900 - accuracy: 0.5192 - val_loss: 2.3283 - val_accuracy: 0.4804 - lr: 2.5000e-04\n",
      "Epoch 23/100\n",
      "151/151 [==============================] - ETA: 0s - loss: 1.3653 - accuracy: 0.5299\n",
      "Epoch 23: val_accuracy improved from 0.48036 to 0.49205, saving model to model.keras\n",
      "151/151 [==============================] - 396s 3s/step - loss: 1.3653 - accuracy: 0.5299 - val_loss: 2.5193 - val_accuracy: 0.4920 - lr: 2.5000e-04\n",
      "Epoch 24/100\n",
      "151/151 [==============================] - ETA: 0s - loss: 1.3420 - accuracy: 0.5362\n",
      "Epoch 24: val_accuracy improved from 0.49205 to 0.50000, saving model to model.keras\n",
      "151/151 [==============================] - 390s 3s/step - loss: 1.3420 - accuracy: 0.5362 - val_loss: 2.6343 - val_accuracy: 0.5000 - lr: 2.5000e-04\n",
      "Epoch 25/100\n",
      "151/151 [==============================] - ETA: 0s - loss: 1.3411 - accuracy: 0.5366\n",
      "Epoch 25: val_accuracy improved from 0.50000 to 0.51123, saving model to model.keras\n",
      "151/151 [==============================] - 392s 3s/step - loss: 1.3411 - accuracy: 0.5366 - val_loss: 3.3531 - val_accuracy: 0.5112 - lr: 2.5000e-04\n",
      "Epoch 26/100\n",
      "151/151 [==============================] - ETA: 0s - loss: 1.3519 - accuracy: 0.5423\n",
      "Epoch 26: val_accuracy did not improve from 0.51123\n",
      "151/151 [==============================] - 379s 3s/step - loss: 1.3519 - accuracy: 0.5423 - val_loss: 2.6002 - val_accuracy: 0.5070 - lr: 2.5000e-04\n",
      "Epoch 27/100\n",
      "151/151 [==============================] - ETA: 0s - loss: 1.3031 - accuracy: 0.5501\n",
      "Epoch 27: val_accuracy improved from 0.51123 to 0.51731, saving model to model.keras\n",
      "151/151 [==============================] - 398s 3s/step - loss: 1.3031 - accuracy: 0.5501 - val_loss: 2.7338 - val_accuracy: 0.5173 - lr: 2.5000e-04\n",
      "Epoch 28/100\n",
      "151/151 [==============================] - ETA: 0s - loss: 1.3256 - accuracy: 0.5455\n",
      "Epoch 28: val_accuracy improved from 0.51731 to 0.53181, saving model to model.keras\n",
      "151/151 [==============================] - 390s 3s/step - loss: 1.3256 - accuracy: 0.5455 - val_loss: 3.6979 - val_accuracy: 0.5318 - lr: 2.5000e-04\n",
      "Epoch 29/100\n",
      "151/151 [==============================] - ETA: 0s - loss: 1.2937 - accuracy: 0.5527\n",
      "Epoch 29: val_accuracy did not improve from 0.53181\n",
      "151/151 [==============================] - 379s 3s/step - loss: 1.2937 - accuracy: 0.5527 - val_loss: 4.5199 - val_accuracy: 0.5257 - lr: 2.5000e-04\n",
      "Epoch 30/100\n",
      "151/151 [==============================] - ETA: 0s - loss: 1.2843 - accuracy: 0.5527\n",
      "Epoch 30: val_accuracy did not improve from 0.53181\n",
      "151/151 [==============================] - 386s 3s/step - loss: 1.2843 - accuracy: 0.5527 - val_loss: 3.6549 - val_accuracy: 0.5248 - lr: 2.5000e-04\n",
      "Epoch 31/100\n",
      "151/151 [==============================] - ETA: 0s - loss: 1.2839 - accuracy: 0.5590\n",
      "Epoch 31: val_accuracy did not improve from 0.53181\n",
      "151/151 [==============================] - 386s 3s/step - loss: 1.2839 - accuracy: 0.5590 - val_loss: 3.9735 - val_accuracy: 0.5159 - lr: 2.5000e-04\n",
      "Epoch 32/100\n",
      "151/151 [==============================] - ETA: 0s - loss: 1.2676 - accuracy: 0.5632\n",
      "Epoch 32: val_accuracy improved from 0.53181 to 0.53508, saving model to model.keras\n",
      "151/151 [==============================] - 396s 3s/step - loss: 1.2676 - accuracy: 0.5632 - val_loss: 4.9809 - val_accuracy: 0.5351 - lr: 2.5000e-04\n",
      "Epoch 33/100\n",
      "151/151 [==============================] - ETA: 0s - loss: 1.3304 - accuracy: 0.5675\n",
      "Epoch 33: val_accuracy improved from 0.53508 to 0.54958, saving model to model.keras\n",
      "151/151 [==============================] - 390s 3s/step - loss: 1.3304 - accuracy: 0.5675 - val_loss: 5.2283 - val_accuracy: 0.5496 - lr: 2.5000e-04\n",
      "Epoch 34/100\n",
      "151/151 [==============================] - ETA: 0s - loss: 1.2368 - accuracy: 0.5735\n",
      "Epoch 34: val_accuracy did not improve from 0.54958\n",
      "151/151 [==============================] - 378s 3s/step - loss: 1.2368 - accuracy: 0.5735 - val_loss: 5.0901 - val_accuracy: 0.5463 - lr: 2.5000e-04\n",
      "Epoch 35/100\n",
      "151/151 [==============================] - ETA: 0s - loss: 1.2440 - accuracy: 0.5667\n",
      "Epoch 35: val_accuracy did not improve from 0.54958\n",
      "151/151 [==============================] - 385s 3s/step - loss: 1.2440 - accuracy: 0.5667 - val_loss: 8.1503 - val_accuracy: 0.5374 - lr: 2.5000e-04\n",
      "Epoch 36/100\n",
      "151/151 [==============================] - ETA: 0s - loss: 1.2263 - accuracy: 0.5737\n",
      "Epoch 36: val_accuracy did not improve from 0.54958\n",
      "151/151 [==============================] - 385s 3s/step - loss: 1.2263 - accuracy: 0.5737 - val_loss: 5.7396 - val_accuracy: 0.5262 - lr: 2.5000e-04\n",
      "Epoch 37/100\n",
      "151/151 [==============================] - ETA: 0s - loss: 1.2274 - accuracy: 0.5773\n",
      "Epoch 37: val_accuracy did not improve from 0.54958\n",
      "151/151 [==============================] - 388s 3s/step - loss: 1.2274 - accuracy: 0.5773 - val_loss: 7.0640 - val_accuracy: 0.5360 - lr: 2.5000e-04\n",
      "Epoch 38/100\n",
      "151/151 [==============================] - ETA: 0s - loss: 1.2357 - accuracy: 0.5804\n",
      "Epoch 38: val_accuracy did not improve from 0.54958\n",
      "\n",
      "Epoch 38: ReduceLROnPlateau reducing learning rate to 0.0001250000059371814.\n",
      "151/151 [==============================] - 385s 3s/step - loss: 1.2357 - accuracy: 0.5804 - val_loss: 4.4955 - val_accuracy: 0.5374 - lr: 2.5000e-04\n",
      "Epoch 39/100\n",
      "151/151 [==============================] - ETA: 0s - loss: 1.1400 - accuracy: 0.6044\n",
      "Epoch 39: val_accuracy did not improve from 0.54958\n",
      "151/151 [==============================] - 386s 3s/step - loss: 1.1400 - accuracy: 0.6044 - val_loss: 4.6937 - val_accuracy: 0.5426 - lr: 1.2500e-04\n",
      "Epoch 40/100\n",
      "151/151 [==============================] - ETA: 0s - loss: 1.1128 - accuracy: 0.6082\n",
      "Epoch 40: val_accuracy improved from 0.54958 to 0.55566, saving model to model.keras\n",
      "151/151 [==============================] - 396s 3s/step - loss: 1.1128 - accuracy: 0.6082 - val_loss: 5.1399 - val_accuracy: 0.5557 - lr: 1.2500e-04\n",
      "Epoch 41/100\n",
      "151/151 [==============================] - ETA: 0s - loss: 1.1082 - accuracy: 0.6151\n",
      "Epoch 41: val_accuracy did not improve from 0.55566\n",
      "151/151 [==============================] - 384s 3s/step - loss: 1.1082 - accuracy: 0.6151 - val_loss: 5.8003 - val_accuracy: 0.5341 - lr: 1.2500e-04\n",
      "Epoch 42/100\n",
      "151/151 [==============================] - ETA: 0s - loss: 1.0928 - accuracy: 0.6187\n",
      "Epoch 42: val_accuracy improved from 0.55566 to 0.56501, saving model to model.keras\n",
      "151/151 [==============================] - 392s 3s/step - loss: 1.0928 - accuracy: 0.6187 - val_loss: 5.7542 - val_accuracy: 0.5650 - lr: 1.2500e-04\n",
      "Epoch 43/100\n",
      "151/151 [==============================] - ETA: 0s - loss: 1.0855 - accuracy: 0.6214\n",
      "Epoch 43: val_accuracy did not improve from 0.56501\n",
      "151/151 [==============================] - 374s 2s/step - loss: 1.0855 - accuracy: 0.6214 - val_loss: 6.7195 - val_accuracy: 0.5608 - lr: 1.2500e-04\n",
      "Epoch 44/100\n",
      "151/151 [==============================] - ETA: 0s - loss: 1.0765 - accuracy: 0.6217\n",
      "Epoch 44: val_accuracy improved from 0.56501 to 0.56642, saving model to model.keras\n",
      "151/151 [==============================] - 396s 3s/step - loss: 1.0765 - accuracy: 0.6217 - val_loss: 8.0627 - val_accuracy: 0.5664 - lr: 1.2500e-04\n",
      "Epoch 45/100\n",
      "151/151 [==============================] - ETA: 0s - loss: 1.0679 - accuracy: 0.6268\n",
      "Epoch 45: val_accuracy improved from 0.56642 to 0.56688, saving model to model.keras\n",
      "151/151 [==============================] - 388s 3s/step - loss: 1.0679 - accuracy: 0.6268 - val_loss: 8.5572 - val_accuracy: 0.5669 - lr: 1.2500e-04\n",
      "Epoch 46/100\n",
      "151/151 [==============================] - ETA: 0s - loss: 1.0603 - accuracy: 0.6276\n",
      "Epoch 46: val_accuracy did not improve from 0.56688\n",
      "151/151 [==============================] - 379s 3s/step - loss: 1.0603 - accuracy: 0.6276 - val_loss: 7.4009 - val_accuracy: 0.5613 - lr: 1.2500e-04\n",
      "Epoch 47/100\n",
      "151/151 [==============================] - ETA: 0s - loss: 1.0460 - accuracy: 0.6366\n",
      "Epoch 47: val_accuracy did not improve from 0.56688\n",
      "151/151 [==============================] - 382s 3s/step - loss: 1.0460 - accuracy: 0.6366 - val_loss: 8.0032 - val_accuracy: 0.5519 - lr: 1.2500e-04\n",
      "Epoch 48/100\n",
      "151/151 [==============================] - ETA: 0s - loss: 1.0465 - accuracy: 0.6364\n",
      "Epoch 48: val_accuracy improved from 0.56688 to 0.57998, saving model to model.keras\n",
      "151/151 [==============================] - 395s 3s/step - loss: 1.0465 - accuracy: 0.6364 - val_loss: 7.4811 - val_accuracy: 0.5800 - lr: 1.2500e-04\n",
      "Epoch 49/100\n",
      "151/151 [==============================] - ETA: 0s - loss: 1.0268 - accuracy: 0.6438\n",
      "Epoch 49: val_accuracy did not improve from 0.57998\n",
      "151/151 [==============================] - 381s 3s/step - loss: 1.0268 - accuracy: 0.6438 - val_loss: 7.7990 - val_accuracy: 0.5444 - lr: 1.2500e-04\n",
      "Epoch 50/100\n",
      "151/151 [==============================] - ETA: 0s - loss: 1.0281 - accuracy: 0.6428\n",
      "Epoch 50: val_accuracy did not improve from 0.57998\n",
      "151/151 [==============================] - 385s 3s/step - loss: 1.0281 - accuracy: 0.6428 - val_loss: 7.7478 - val_accuracy: 0.5575 - lr: 1.2500e-04\n",
      "Epoch 51/100\n",
      "151/151 [==============================] - ETA: 0s - loss: 1.0155 - accuracy: 0.6438\n",
      "Epoch 51: val_accuracy did not improve from 0.57998\n",
      "151/151 [==============================] - 383s 3s/step - loss: 1.0155 - accuracy: 0.6438 - val_loss: 8.6034 - val_accuracy: 0.5543 - lr: 1.2500e-04\n",
      "Epoch 52/100\n",
      "151/151 [==============================] - ETA: 0s - loss: 1.0154 - accuracy: 0.6448\n",
      "Epoch 52: val_accuracy did not improve from 0.57998\n",
      "151/151 [==============================] - 386s 3s/step - loss: 1.0154 - accuracy: 0.6448 - val_loss: 6.9025 - val_accuracy: 0.5505 - lr: 1.2500e-04\n",
      "Epoch 53/100\n",
      "151/151 [==============================] - ETA: 0s - loss: 1.0000 - accuracy: 0.6494\n",
      "Epoch 53: val_accuracy did not improve from 0.57998\n",
      "\n",
      "Epoch 53: ReduceLROnPlateau reducing learning rate to 6.25000029685907e-05.\n",
      "151/151 [==============================] - 386s 3s/step - loss: 1.0000 - accuracy: 0.6494 - val_loss: 7.7367 - val_accuracy: 0.5688 - lr: 1.2500e-04\n",
      "Epoch 54/100\n",
      "151/151 [==============================] - ETA: 0s - loss: 0.9476 - accuracy: 0.6691\n",
      "Epoch 54: val_accuracy did not improve from 0.57998\n",
      "151/151 [==============================] - 386s 3s/step - loss: 0.9476 - accuracy: 0.6691 - val_loss: 7.0509 - val_accuracy: 0.5795 - lr: 6.2500e-05\n",
      "Epoch 55/100\n",
      "151/151 [==============================] - ETA: 0s - loss: 0.9317 - accuracy: 0.6710\n",
      "Epoch 55: val_accuracy did not improve from 0.57998\n",
      "151/151 [==============================] - 382s 3s/step - loss: 0.9317 - accuracy: 0.6710 - val_loss: 7.6566 - val_accuracy: 0.5748 - lr: 6.2500e-05\n",
      "Epoch 56/100\n",
      "151/151 [==============================] - ETA: 0s - loss: 0.9249 - accuracy: 0.6775\n",
      "Epoch 56: val_accuracy did not improve from 0.57998\n",
      "151/151 [==============================] - 382s 3s/step - loss: 0.9249 - accuracy: 0.6775 - val_loss: 7.6205 - val_accuracy: 0.5767 - lr: 6.2500e-05\n",
      "Epoch 57/100\n",
      "151/151 [==============================] - ETA: 0s - loss: 0.9185 - accuracy: 0.6787\n",
      "Epoch 57: val_accuracy did not improve from 0.57998\n",
      "151/151 [==============================] - 383s 3s/step - loss: 0.9185 - accuracy: 0.6787 - val_loss: 7.1571 - val_accuracy: 0.5748 - lr: 6.2500e-05\n",
      "Epoch 58/100\n",
      "151/151 [==============================] - ETA: 0s - loss: 0.9111 - accuracy: 0.6812\n",
      "Epoch 58: val_accuracy did not improve from 0.57998\n",
      "\n",
      "Epoch 58: ReduceLROnPlateau reducing learning rate to 3.125000148429535e-05.\n",
      "151/151 [==============================] - 383s 3s/step - loss: 0.9111 - accuracy: 0.6812 - val_loss: 7.1526 - val_accuracy: 0.5800 - lr: 6.2500e-05\n",
      "Epoch 58: early stopping\n",
      "Best validation model: epoch 48  - val_accuracy 0.57998126745224\n"
     ]
    }
   ],
   "source": [
    "import math\n",
    "import numpy as np\n",
    "\n",
    "print('Training model')\n",
    "epochs = 100 ## Increase epochs (100) \n",
    "train_steps = math.ceil(len(objs_train)/batch_size)\n",
    "valid_steps = math.ceil(len(objs_valid)/batch_size)\n",
    "h = model.fit(train_generator, steps_per_epoch=train_steps, validation_data=valid_generator, validation_steps=valid_steps, epochs=epochs, callbacks=callbacks, verbose=1)\n",
    "# Best validation model\n",
    "best_idx = int(np.argmax(h.history['val_accuracy']))\n",
    "best_value = np.max(h.history['val_accuracy'])\n",
    "print('Best validation model: epoch ' + str(best_idx+1), ' - val_accuracy ' + str(best_value))"
   ]
  },
  {
   "cell_type": "code",
   "execution_count": 15,
   "metadata": {},
   "outputs": [
    {
     "data": {
      "image/png": "[encoded data removed]",
      "text/plain": [
       "<Figure size 1000x800 with 2 Axes>"
      ]
     },
     "metadata": {},
     "output_type": "display_data"
    }
   ],
   "source": [
    "import matplotlib.pyplot as plt\n",
    "\n",
    "# Plot training & validation accuracy/loss\n",
    "plt.figure(figsize=(10, 8))\n",
    "\n",
    "# Accuracy\n",
    "plt.subplot(2, 1, 1)\n",
    "plt.plot(h.history['accuracy'], label='Training Accuracy')\n",
    "plt.plot(h.history['val_accuracy'], label='Validation Accuracy')\n",
    "plt.title('Accuracy Over Epochs')\n",
    "plt.ylabel('Accuracy')\n",
    "plt.legend(loc='upper left')\n",
    "\n",
    "# Loss\n",
    "plt.subplot(2, 1, 2)\n",
    "plt.plot(h.history['loss'], label='Training Loss')\n",
    "plt.plot(h.history['val_loss'], label='Validation Loss')\n",
    "plt.title('Loss Over Epochs')\n",
    "plt.ylabel('Loss')\n",
    "plt.xlabel('Epochs')\n",
    "plt.legend(loc='upper right')\n",
    "\n",
    "plt.tight_layout()\n",
    "plt.show()"
   ]
  },
  {
   "cell_type": "markdown",
   "metadata": {
    "editable": true,
    "id": "8IMMO_mT-AM9",
    "slideshow": {
     "slide_type": ""
    },
    "tags": []
   },
   "source": [
    "#### Validation\n",
    "Compute validation metrics."
   ]
  },
  {
   "cell_type": "code",
   "execution_count": null,
   "metadata": {
    "id": "HAanJ-V0-AM1"
   },
   "outputs": [],
   "source": [
    "import matplotlib.pyplot as plt\n",
    "import numpy as np\n",
    "\n",
    "def draw_confusion_matrix(cm, categories):\n",
    "    # Draw confusion matrix\n",
    "    fig = plt.figure(figsize=[6.4*pow(len(categories), 0.5), 4.8*pow(len(categories), 0.5)])\n",
    "    ax = fig.add_subplot(111)\n",
    "    cm = cm.astype('float') / np.maximum(cm.sum(axis=1)[:, np.newaxis], np.finfo(np.float64).eps)\n",
    "    im = ax.imshow(cm, interpolation='nearest', cmap=plt.cm.get_cmap('Blues'))\n",
    "    ax.figure.colorbar(im, ax=ax)\n",
    "    ax.set(xticks=np.arange(cm.shape[1]), yticks=np.arange(cm.shape[0]), xticklabels=list(categories.values()), yticklabels=list(categories.values()), ylabel='Annotation', xlabel='Prediction')\n",
    "    # Rotate the tick labels and set their alignment\n",
    "    plt.setp(ax.get_xticklabels(), rotation=45, ha=\"right\", rotation_mode=\"anchor\")\n",
    "    # Loop over data dimensions and create text annotations\n",
    "    thresh = cm.max() / 2.0\n",
    "    for i in range(cm.shape[0]):\n",
    "        for j in range(cm.shape[1]):\n",
    "            ax.text(j, i, format(cm[i, j], '.2f'), ha=\"center\", va=\"center\", color=\"white\" if cm[i, j] > thresh else \"black\", fontsize=int(20-pow(len(categories), 0.5)))\n",
    "    fig.tight_layout()\n",
    "    plt.show(fig)"
   ]
  },
  {
   "cell_type": "code",
   "execution_count": null,
   "metadata": {},
   "outputs": [],
   "source": [
    "import numpy as np\n",
    "\n",
    "model.load_weights('/kaggle/working/model.keras')\n",
    "y_true, y_pred = [], []\n",
    "for ann in anns_valid:\n",
    "    # Load image\n",
    "    image = load_geoimage(ann.filename)\n",
    "    for obj_pred in ann.objects:\n",
    "        # Generate prediction\n",
    "        warped_image = np.expand_dims(image, 0)\n",
    "        predictions = model.predict(warped_image, verbose=0)\n",
    "        # Save prediction\n",
    "        pred_category = list(categories.values())[np.argmax(predictions)]\n",
    "        pred_score = np.max(predictions)\n",
    "        y_true.append(obj_pred.category)\n",
    "        y_pred.append(pred_category)"
   ]
  },
  {
   "cell_type": "code",
   "execution_count": null,
   "metadata": {},
   "outputs": [],
   "source": [
    "from sklearn.metrics import confusion_matrix\n",
    "\n",
    "# Compute the confusion matrix\n",
    "cm = confusion_matrix(y_true, y_pred, labels=list(categories.values()))\n",
    "draw_confusion_matrix(cm, categories)"
   ]
  },
  {
   "cell_type": "code",
   "execution_count": null,
   "metadata": {},
   "outputs": [],
   "source": [
    "import numpy as np\n",
    "\n",
    "# Compute the accuracy\n",
    "correct_samples_class = np.diag(cm).astype(float)\n",
    "total_samples_class = np.sum(cm, axis=1).astype(float)\n",
    "total_predicts_class = np.sum(cm, axis=0).astype(float)\n",
    "print('Mean Accuracy: %.3f%%' % (np.sum(correct_samples_class) / np.sum(total_samples_class) * 100))\n",
    "acc = correct_samples_class / np.maximum(total_samples_class, np.finfo(np.float64).eps)\n",
    "print('Mean Recall: %.3f%%' % (acc.mean() * 100))\n",
    "acc = correct_samples_class / np.maximum(total_predicts_class, np.finfo(np.float64).eps)\n",
    "print('Mean Precision: %.3f%%' % (acc.mean() * 100))\n",
    "for idx in range(len(categories)):\n",
    "    # True/False Positives (TP/FP) refer to the number of predicted positives that were correct/incorrect.\n",
    "    # True/False Negatives (TN/FN) refer to the number of predicted negatives that were correct/incorrect.\n",
    "    tp = cm[idx, idx]\n",
    "    fp = sum(cm[:, idx]) - tp\n",
    "    fn = sum(cm[idx, :]) - tp\n",
    "    tn = sum(np.delete(sum(cm) - cm[idx, :], idx))\n",
    "    # True Positive Rate: proportion of real positive cases that were correctly predicted as positive.\n",
    "    recall = tp / np.maximum(tp+fn, np.finfo(np.float64).eps)\n",
    "    # Precision: proportion of predicted positive cases that were truly real positives.\n",
    "    precision = tp / np.maximum(tp+fp, np.finfo(np.float64).eps)\n",
    "    # True Negative Rate: proportion of real negative cases that were correctly predicted as negative.\n",
    "    specificity = tn / np.maximum(tn+fp, np.finfo(np.float64).eps)\n",
    "    # Dice coefficient refers to two times the intersection of two sets divided by the sum of their areas.\n",
    "    # Dice = 2 |A∩B| / (|A|+|B|) = 2 TP / (2 TP + FP + FN)\n",
    "    f1_score = 2 * ((precision * recall) / np.maximum(precision+recall, np.finfo(np.float64).eps))\n",
    "    print('> %s: Recall: %.3f%% Precision: %.3f%% Specificity: %.3f%% Dice: %.3f%%' % (list(categories.values())[idx], recall*100, precision*100, specificity*100, f1_score*100))"
   ]
  },
  {
   "cell_type": "markdown",
   "metadata": {},
   "source": [
    "#### Testing\n",
    "Try to improve the results provided in the competition."
   ]
  },
  {
   "cell_type": "code",
   "execution_count": null,
   "metadata": {
    "id": "tJr_-xCt-AM-"
   },
   "outputs": [],
   "source": [
    "import os\n",
    "import numpy as np\n",
    "\n",
    "anns = []\n",
    "for (dirpath, dirnames, filenames) in os.walk('../input/xview-recognition/xview_recognition/xview_test'):\n",
    "    for filename in filenames:\n",
    "        image_path = os.path.relpath(os.path.join(dirpath, filename), '../input/xview-recognition/xview_recognition/')\n",
    "        image = GenericImage(image_path)\n",
    "        image.tile = np.array([0, 0, 224, 224])\n",
    "        obj = GenericObject()\n",
    "        obj.bb = (0, 0, 224, 224)\n",
    "        obj.category = dirpath[dirpath.rfind('/')+1:]\n",
    "        image.add_object(obj)\n",
    "        anns.append(image)\n",
    "print('Number of testing images: ' + str(len(anns)))"
   ]
  },
  {
   "cell_type": "code",
   "execution_count": null,
   "metadata": {
    "id": "TGs2zqfv-AM_"
   },
   "outputs": [],
   "source": [
    "import numpy as np\n",
    "\n",
    "model.load_weights('/kaggle/working/model.kerass')\n",
    "predictions_data = {\"images\": {}, \"annotations\": {}}\n",
    "for idx, ann in enumerate(anns):\n",
    "    image_data = {\"image_id\": ann.filename.split('/')[-1], \"filename\": ann.filename, \"width\": int(ann.tile[2]), \"height\": int(ann.tile[3])}\n",
    "    predictions_data[\"images\"][idx] = image_data\n",
    "    # Load image\n",
    "    image = load_geoimage(ann.filename)\n",
    "    for obj_pred in ann.objects:\n",
    "        # Generate prediction\n",
    "        warped_image = np.expand_dims(image, 0)\n",
    "        predictions = model.predict(warped_image, verbose=0)\n",
    "        # Save prediction\n",
    "        pred_category = list(categories.values())[np.argmax(predictions)]\n",
    "        pred_score = np.max(predictions)\n",
    "        annotation_data = {\"image_id\": ann.filename.split('/')[-1], \"category_id\": pred_category, \"bbox\": [int(x) for x in obj_pred.bb]}\n",
    "        predictions_data[\"annotations\"][idx] = annotation_data"
   ]
  },
  {
   "cell_type": "code",
   "execution_count": null,
   "metadata": {},
   "outputs": [],
   "source": [
    "with open(\"/kaggle/working/prediction.jsonn\", \"w\") as outfile:\n",
    "    json.dump(predictions_data, outfile)"
   ]
  }
 ],
 "metadata": {
  "colab": {
   "provenance": []
  },
  "kaggle": {
   "accelerator": "gpu",
   "dataSources": [
    {
     "datasetId": 6719064,
     "sourceId": 10821714,
     "sourceType": "datasetVersion"
    }
   ],
   "isGpuEnabled": true,
   "isInternetEnabled": true,
   "language": "python",
   "sourceType": "notebook"
  },
  "kernelspec": {
   "display_name": "conda_env",
   "language": "python",
   "name": "python3"
  },
  "language_info": {
   "codemirror_mode": {
    "name": "ipython",
    "version": 3
   },
   "file_extension": ".py",
   "mimetype": "text/x-python",
   "name": "python",
   "nbconvert_exporter": "python",
   "pygments_lexer": "ipython3",
   "version": "3.11.11"
  },
  "widgets": {
   "application/vnd.jupyter.widget-state+json": {
    "state": {},
    "version_major": 2,
    "version_minor": 0
   }
  }
 },
 "nbformat": 4,
 "nbformat_minor": 4
}
